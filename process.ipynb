{
 "cells": [
  {
   "cell_type": "code",
   "execution_count": 5,
   "metadata": {},
   "outputs": [],
   "source": [
    "import pandas as pd\n",
    "import os\n",
    "from datetime import datetime\n",
    "import altair as alt\n",
    "from util.time_restart import next_update_time\n",
    "import datetime"
   ]
  },
  {
   "cell_type": "code",
   "execution_count": 7,
   "metadata": {},
   "outputs": [],
   "source": [
    "import streamlit as st\n",
    "import pandas as pd\n",
    "import os\n",
    "from datetime import datetime, timedelta\n",
    "from util.predict_chart import predict_df,real_df"
   ]
  },
  {
   "cell_type": "code",
   "execution_count": 2,
   "metadata": {},
   "outputs": [],
   "source": [
    "current_date = datetime.now().date()- timedelta(days=30)\n",
    "max_date = datetime.now().date() + timedelta(days=1)"
   ]
  },
  {
   "cell_type": "code",
   "execution_count": 12,
   "metadata": {},
   "outputs": [],
   "source": [
    "df = predict_df(current_date, max_date, [\"YD15\"], '10号风机')\n",
    "df_real = real_df(current_date, max_date, [\"YD15\"], '10号风机')\n",
    "selected_features = st.multiselect(\"选择预测特征\", [\"YD15\", \"ROUND(A.POWER,0)\"])"
   ]
  },
  {
   "cell_type": "code",
   "execution_count": 17,
   "metadata": {},
   "outputs": [
    {
     "name": "stdout",
     "output_type": "stream",
     "text": [
      "[]\n"
     ]
    }
   ],
   "source": [
    "print(selected_features)\n",
    "df=df.rename(columns={'YD15':'Pre'+\"YD15\"})\n",
    "max_len=max(len(df),len(df_real))\n",
    "merge=pd.merge(df,df_real,on='DATATIME',how='outer')\n",
    "merge=merge.fillna('')"
   ]
  },
  {
   "cell_type": "code",
   "execution_count": 18,
   "metadata": {},
   "outputs": [
    {
     "data": {
      "text/html": [
       "<div>\n",
       "<style scoped>\n",
       "    .dataframe tbody tr th:only-of-type {\n",
       "        vertical-align: middle;\n",
       "    }\n",
       "\n",
       "    .dataframe tbody tr th {\n",
       "        vertical-align: top;\n",
       "    }\n",
       "\n",
       "    .dataframe thead th {\n",
       "        text-align: right;\n",
       "    }\n",
       "</style>\n",
       "<table border=\"1\" class=\"dataframe\">\n",
       "  <thead>\n",
       "    <tr style=\"text-align: right;\">\n",
       "      <th></th>\n",
       "      <th>PreYD15</th>\n",
       "      <th>DATATIME</th>\n",
       "      <th>YD15</th>\n",
       "    </tr>\n",
       "  </thead>\n",
       "  <tbody>\n",
       "    <tr>\n",
       "      <th>0</th>\n",
       "      <td>47770.305</td>\n",
       "      <td>2023-07-08 00:00:00</td>\n",
       "      <td>9.8</td>\n",
       "    </tr>\n",
       "    <tr>\n",
       "      <th>1</th>\n",
       "      <td>47704.47</td>\n",
       "      <td>2023-07-08 00:15:00</td>\n",
       "      <td>11.3</td>\n",
       "    </tr>\n",
       "    <tr>\n",
       "      <th>2</th>\n",
       "      <td>47704.47</td>\n",
       "      <td>2023-07-08 00:15:00</td>\n",
       "      <td>7.6</td>\n",
       "    </tr>\n",
       "    <tr>\n",
       "      <th>3</th>\n",
       "      <td>44729.832</td>\n",
       "      <td>2023-07-08 00:30:00</td>\n",
       "      <td>16.1</td>\n",
       "    </tr>\n",
       "    <tr>\n",
       "      <th>4</th>\n",
       "      <td>43455.926</td>\n",
       "      <td>2023-07-08 00:45:00</td>\n",
       "      <td>1.1</td>\n",
       "    </tr>\n",
       "    <tr>\n",
       "      <th>...</th>\n",
       "      <td>...</td>\n",
       "      <td>...</td>\n",
       "      <td>...</td>\n",
       "    </tr>\n",
       "    <tr>\n",
       "      <th>1436</th>\n",
       "      <td></td>\n",
       "      <td>2023-07-07 22:45:00</td>\n",
       "      <td>11.3</td>\n",
       "    </tr>\n",
       "    <tr>\n",
       "      <th>1437</th>\n",
       "      <td></td>\n",
       "      <td>2023-07-07 23:00:00</td>\n",
       "      <td>16.4</td>\n",
       "    </tr>\n",
       "    <tr>\n",
       "      <th>1438</th>\n",
       "      <td></td>\n",
       "      <td>2023-07-07 23:15:00</td>\n",
       "      <td>8.3</td>\n",
       "    </tr>\n",
       "    <tr>\n",
       "      <th>1439</th>\n",
       "      <td></td>\n",
       "      <td>2023-07-07 23:30:00</td>\n",
       "      <td>8.9</td>\n",
       "    </tr>\n",
       "    <tr>\n",
       "      <th>1440</th>\n",
       "      <td></td>\n",
       "      <td>2023-07-07 23:45:00</td>\n",
       "      <td>15.5</td>\n",
       "    </tr>\n",
       "  </tbody>\n",
       "</table>\n",
       "<p>1441 rows × 3 columns</p>\n",
       "</div>"
      ],
      "text/plain": [
       "        PreYD15            DATATIME  YD15\n",
       "0     47770.305 2023-07-08 00:00:00   9.8\n",
       "1      47704.47 2023-07-08 00:15:00  11.3\n",
       "2      47704.47 2023-07-08 00:15:00   7.6\n",
       "3     44729.832 2023-07-08 00:30:00  16.1\n",
       "4     43455.926 2023-07-08 00:45:00   1.1\n",
       "...         ...                 ...   ...\n",
       "1436            2023-07-07 22:45:00  11.3\n",
       "1437            2023-07-07 23:00:00  16.4\n",
       "1438            2023-07-07 23:15:00   8.3\n",
       "1439            2023-07-07 23:30:00   8.9\n",
       "1440            2023-07-07 23:45:00  15.5\n",
       "\n",
       "[1441 rows x 3 columns]"
      ]
     },
     "execution_count": 18,
     "metadata": {},
     "output_type": "execute_result"
    }
   ],
   "source": [
    "merge"
   ]
  },
  {
   "cell_type": "code",
   "execution_count": 23,
   "metadata": {},
   "outputs": [
    {
     "ename": "KeyError",
     "evalue": "\"['DATATIME'] not found in axis\"",
     "output_type": "error",
     "traceback": [
      "\u001b[0;31m---------------------------------------------------------------------------\u001b[0m",
      "\u001b[0;31mKeyError\u001b[0m                                  Traceback (most recent call last)",
      "Cell \u001b[0;32mIn[23], line 10\u001b[0m\n\u001b[1;32m      8\u001b[0m data_to_plot_1\u001b[39m=\u001b[39mdata_to_plot\n\u001b[1;32m      9\u001b[0m \u001b[39m# 更新占位符内容，绘制图表\u001b[39;00m\n\u001b[0;32m---> 10\u001b[0m chart_placeholder\u001b[39m.\u001b[39mline_chart(data_to_plot_1\u001b[39m.\u001b[39;49mdrop(columns\u001b[39m=\u001b[39;49m[\u001b[39m'\u001b[39;49m\u001b[39mDATATIME\u001b[39;49m\u001b[39m'\u001b[39;49m]),x\u001b[39m=\u001b[39mdata_to_plot[\u001b[39m'\u001b[39m\u001b[39mDATATIME\u001b[39m\u001b[39m'\u001b[39m])\n\u001b[1;32m     11\u001b[0m \u001b[39m# 添加延迟，控制绘图速度\u001b[39;00m\n\u001b[1;32m     12\u001b[0m time\u001b[39m.\u001b[39msleep(delay)\n",
      "File \u001b[0;32m~/anaconda3/envs/electro/lib/python3.8/site-packages/pandas/util/_decorators.py:311\u001b[0m, in \u001b[0;36mdeprecate_nonkeyword_arguments.<locals>.decorate.<locals>.wrapper\u001b[0;34m(*args, **kwargs)\u001b[0m\n\u001b[1;32m    305\u001b[0m \u001b[39mif\u001b[39;00m \u001b[39mlen\u001b[39m(args) \u001b[39m>\u001b[39m num_allow_args:\n\u001b[1;32m    306\u001b[0m     warnings\u001b[39m.\u001b[39mwarn(\n\u001b[1;32m    307\u001b[0m         msg\u001b[39m.\u001b[39mformat(arguments\u001b[39m=\u001b[39marguments),\n\u001b[1;32m    308\u001b[0m         \u001b[39mFutureWarning\u001b[39;00m,\n\u001b[1;32m    309\u001b[0m         stacklevel\u001b[39m=\u001b[39mstacklevel,\n\u001b[1;32m    310\u001b[0m     )\n\u001b[0;32m--> 311\u001b[0m \u001b[39mreturn\u001b[39;00m func(\u001b[39m*\u001b[39;49margs, \u001b[39m*\u001b[39;49m\u001b[39m*\u001b[39;49mkwargs)\n",
      "File \u001b[0;32m~/anaconda3/envs/electro/lib/python3.8/site-packages/pandas/core/frame.py:4906\u001b[0m, in \u001b[0;36mDataFrame.drop\u001b[0;34m(self, labels, axis, index, columns, level, inplace, errors)\u001b[0m\n\u001b[1;32m   4774\u001b[0m \u001b[39m@deprecate_nonkeyword_arguments\u001b[39m(version\u001b[39m=\u001b[39m\u001b[39mNone\u001b[39;00m, allowed_args\u001b[39m=\u001b[39m[\u001b[39m\"\u001b[39m\u001b[39mself\u001b[39m\u001b[39m\"\u001b[39m, \u001b[39m\"\u001b[39m\u001b[39mlabels\u001b[39m\u001b[39m\"\u001b[39m])\n\u001b[1;32m   4775\u001b[0m \u001b[39mdef\u001b[39;00m \u001b[39mdrop\u001b[39m(\n\u001b[1;32m   4776\u001b[0m     \u001b[39mself\u001b[39m,\n\u001b[0;32m   (...)\u001b[0m\n\u001b[1;32m   4783\u001b[0m     errors: \u001b[39mstr\u001b[39m \u001b[39m=\u001b[39m \u001b[39m\"\u001b[39m\u001b[39mraise\u001b[39m\u001b[39m\"\u001b[39m,\n\u001b[1;32m   4784\u001b[0m ):\n\u001b[1;32m   4785\u001b[0m \u001b[39m    \u001b[39m\u001b[39m\"\"\"\u001b[39;00m\n\u001b[1;32m   4786\u001b[0m \u001b[39m    Drop specified labels from rows or columns.\u001b[39;00m\n\u001b[1;32m   4787\u001b[0m \n\u001b[0;32m   (...)\u001b[0m\n\u001b[1;32m   4904\u001b[0m \u001b[39m            weight  1.0     0.8\u001b[39;00m\n\u001b[1;32m   4905\u001b[0m \u001b[39m    \"\"\"\u001b[39;00m\n\u001b[0;32m-> 4906\u001b[0m     \u001b[39mreturn\u001b[39;00m \u001b[39msuper\u001b[39;49m()\u001b[39m.\u001b[39;49mdrop(\n\u001b[1;32m   4907\u001b[0m         labels\u001b[39m=\u001b[39;49mlabels,\n\u001b[1;32m   4908\u001b[0m         axis\u001b[39m=\u001b[39;49maxis,\n\u001b[1;32m   4909\u001b[0m         index\u001b[39m=\u001b[39;49mindex,\n\u001b[1;32m   4910\u001b[0m         columns\u001b[39m=\u001b[39;49mcolumns,\n\u001b[1;32m   4911\u001b[0m         level\u001b[39m=\u001b[39;49mlevel,\n\u001b[1;32m   4912\u001b[0m         inplace\u001b[39m=\u001b[39;49minplace,\n\u001b[1;32m   4913\u001b[0m         errors\u001b[39m=\u001b[39;49merrors,\n\u001b[1;32m   4914\u001b[0m     )\n",
      "File \u001b[0;32m~/anaconda3/envs/electro/lib/python3.8/site-packages/pandas/core/generic.py:4150\u001b[0m, in \u001b[0;36mNDFrame.drop\u001b[0;34m(self, labels, axis, index, columns, level, inplace, errors)\u001b[0m\n\u001b[1;32m   4148\u001b[0m \u001b[39mfor\u001b[39;00m axis, labels \u001b[39min\u001b[39;00m axes\u001b[39m.\u001b[39mitems():\n\u001b[1;32m   4149\u001b[0m     \u001b[39mif\u001b[39;00m labels \u001b[39mis\u001b[39;00m \u001b[39mnot\u001b[39;00m \u001b[39mNone\u001b[39;00m:\n\u001b[0;32m-> 4150\u001b[0m         obj \u001b[39m=\u001b[39m obj\u001b[39m.\u001b[39;49m_drop_axis(labels, axis, level\u001b[39m=\u001b[39;49mlevel, errors\u001b[39m=\u001b[39;49merrors)\n\u001b[1;32m   4152\u001b[0m \u001b[39mif\u001b[39;00m inplace:\n\u001b[1;32m   4153\u001b[0m     \u001b[39mself\u001b[39m\u001b[39m.\u001b[39m_update_inplace(obj)\n",
      "File \u001b[0;32m~/anaconda3/envs/electro/lib/python3.8/site-packages/pandas/core/generic.py:4185\u001b[0m, in \u001b[0;36mNDFrame._drop_axis\u001b[0;34m(self, labels, axis, level, errors)\u001b[0m\n\u001b[1;32m   4183\u001b[0m         new_axis \u001b[39m=\u001b[39m axis\u001b[39m.\u001b[39mdrop(labels, level\u001b[39m=\u001b[39mlevel, errors\u001b[39m=\u001b[39merrors)\n\u001b[1;32m   4184\u001b[0m     \u001b[39melse\u001b[39;00m:\n\u001b[0;32m-> 4185\u001b[0m         new_axis \u001b[39m=\u001b[39m axis\u001b[39m.\u001b[39;49mdrop(labels, errors\u001b[39m=\u001b[39;49merrors)\n\u001b[1;32m   4186\u001b[0m     result \u001b[39m=\u001b[39m \u001b[39mself\u001b[39m\u001b[39m.\u001b[39mreindex(\u001b[39m*\u001b[39m\u001b[39m*\u001b[39m{axis_name: new_axis})\n\u001b[1;32m   4188\u001b[0m \u001b[39m# Case for non-unique axis\u001b[39;00m\n\u001b[1;32m   4189\u001b[0m \u001b[39melse\u001b[39;00m:\n",
      "File \u001b[0;32m~/anaconda3/envs/electro/lib/python3.8/site-packages/pandas/core/indexes/base.py:6017\u001b[0m, in \u001b[0;36mIndex.drop\u001b[0;34m(self, labels, errors)\u001b[0m\n\u001b[1;32m   6015\u001b[0m \u001b[39mif\u001b[39;00m mask\u001b[39m.\u001b[39many():\n\u001b[1;32m   6016\u001b[0m     \u001b[39mif\u001b[39;00m errors \u001b[39m!=\u001b[39m \u001b[39m\"\u001b[39m\u001b[39mignore\u001b[39m\u001b[39m\"\u001b[39m:\n\u001b[0;32m-> 6017\u001b[0m         \u001b[39mraise\u001b[39;00m \u001b[39mKeyError\u001b[39;00m(\u001b[39mf\u001b[39m\u001b[39m\"\u001b[39m\u001b[39m{\u001b[39;00mlabels[mask]\u001b[39m}\u001b[39;00m\u001b[39m not found in axis\u001b[39m\u001b[39m\"\u001b[39m)\n\u001b[1;32m   6018\u001b[0m     indexer \u001b[39m=\u001b[39m indexer[\u001b[39m~\u001b[39mmask]\n\u001b[1;32m   6019\u001b[0m \u001b[39mreturn\u001b[39;00m \u001b[39mself\u001b[39m\u001b[39m.\u001b[39mdelete(indexer)\n",
      "\u001b[0;31mKeyError\u001b[0m: \"['DATATIME'] not found in axis\""
     ]
    }
   ],
   "source": [
    "import time\n",
    "chart_placeholder = st.empty()\n",
    "# 设置绘图速度（延迟时间）\n",
    "delay = 0.02\n",
    "# 遍历每个数据点，并逐步绘制图表\n",
    "for i in range(len(merge)):\n",
    "    data_to_plot = merge.iloc[:i+1].set_index('DATATIME')\n",
    "    data_to_plot_1=data_to_plot\n",
    "    # 更新占位符内容，绘制图表\n",
    "    chart_placeholder.line_chart(data_to_plot_1.drop(columns=['DATATIME']),x=data_to_plot['DATATIME'])\n",
    "    # 添加延迟，控制绘图速度\n",
    "    time.sleep(delay)"
   ]
  }
 ],
 "metadata": {
  "kernelspec": {
   "display_name": "myenv",
   "language": "python",
   "name": "python3"
  },
  "language_info": {
   "codemirror_mode": {
    "name": "ipython",
    "version": 3
   },
   "file_extension": ".py",
   "mimetype": "text/x-python",
   "name": "python",
   "nbconvert_exporter": "python",
   "pygments_lexer": "ipython3",
   "version": "3.8.16"
  },
  "orig_nbformat": 4
 },
 "nbformat": 4,
 "nbformat_minor": 2
}
