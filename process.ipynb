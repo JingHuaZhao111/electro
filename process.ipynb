{
 "cells": [
  {
   "cell_type": "code",
   "execution_count": 2,
   "metadata": {},
   "outputs": [],
   "source": [
    "import pandas as pd\n",
    "import os\n",
    "from datetime import datetime\n",
    "import altair as alt\n",
    "from util.time_restart import next_update_time\n",
    "from datetime import datetime, timedelta"
   ]
  },
  {
   "cell_type": "code",
   "execution_count": 13,
   "metadata": {},
   "outputs": [
    {
     "data": {
      "text/plain": [
       "0     False\n",
       "1     False\n",
       "2     False\n",
       "3     False\n",
       "4     False\n",
       "      ...  \n",
       "87    False\n",
       "88    False\n",
       "89    False\n",
       "90    False\n",
       "91    False\n",
       "Name: DATATIME, Length: 92, dtype: bool"
      ]
     },
     "execution_count": 13,
     "metadata": {},
     "output_type": "execute_result"
    }
   ],
   "source": [
    "last_time=next_update_time()- timedelta(seconds=10)\n",
    "in_data_01=pd.read_csv('./data/1.csv')\n",
    "out_data_01=pd.read_csv('./pred/0001out.csv')\n",
    "in_data_01['DATATIME'] == str(last_time)\n",
    "# row_index = in_data_01[in_data_01['DATATIME'] == last_time].index[0]\n",
    "\n",
    "# # 使用索引获取相应的行数据\n",
    "# in_row_01 = in_data_01.iloc[row_index]"
   ]
  }
 ],
 "metadata": {
  "kernelspec": {
   "display_name": "myenv",
   "language": "python",
   "name": "python3"
  },
  "language_info": {
   "codemirror_mode": {
    "name": "ipython",
    "version": 3
   },
   "file_extension": ".py",
   "mimetype": "text/x-python",
   "name": "python",
   "nbconvert_exporter": "python",
   "pygments_lexer": "ipython3",
   "version": "3.8.16"
  },
  "orig_nbformat": 4
 },
 "nbformat": 4,
 "nbformat_minor": 2
}
