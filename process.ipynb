{
 "cells": [
  {
   "cell_type": "code",
   "execution_count": 7,
   "metadata": {},
   "outputs": [],
   "source": [
    "import pandas as pd"
   ]
  },
  {
   "cell_type": "code",
   "execution_count": 13,
   "metadata": {},
   "outputs": [],
   "source": [
    "# 读取CSV文件\n",
    "df = pd.read_csv('data/1.csv')"
   ]
  },
  {
   "cell_type": "code",
   "execution_count": 14,
   "metadata": {},
   "outputs": [
    {
     "name": "stdout",
     "output_type": "stream",
     "text": [
      "YD15列的和： 2514281.0\n"
     ]
    }
   ],
   "source": [
    "# 将DATATIME列解析为日期时间类型\n",
    "df['DATATIME'] = pd.to_datetime(df['DATATIME'])\n",
    "\n",
    "# 设置日期范围（这里以2021年11月1日为例）\n",
    "start_date = pd.to_datetime('2021-11-01')\n",
    "end_date = pd.to_datetime('2021-11-01') + pd.DateOffset(days=1)\n",
    "\n",
    "# 筛选出指定日期范围内的数据\n",
    "filtered_df = df[(df['DATATIME'] >= start_date) & (df['DATATIME'] < end_date)]\n",
    "\n",
    "# 计算YD15列的和\n",
    "yd15_sum = filtered_df['YD15'].sum()"
   ]
  },
  {
   "cell_type": "code",
   "execution_count": null,
   "metadata": {},
   "outputs": [],
   "source": []
  }
 ],
 "metadata": {
  "kernelspec": {
   "display_name": "myenv",
   "language": "python",
   "name": "python3"
  },
  "language_info": {
   "codemirror_mode": {
    "name": "ipython",
    "version": 3
   },
   "file_extension": ".py",
   "mimetype": "text/x-python",
   "name": "python",
   "nbconvert_exporter": "python",
   "pygments_lexer": "ipython3",
   "version": "3.8.16"
  },
  "orig_nbformat": 4
 },
 "nbformat": 4,
 "nbformat_minor": 2
}
