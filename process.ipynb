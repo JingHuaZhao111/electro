{
 "cells": [
  {
   "cell_type": "code",
   "execution_count": 2,
   "metadata": {},
   "outputs": [],
   "source": [
    "import pandas as pd\n",
    "import os\n",
    "from datetime import datetime"
   ]
  },
  {
   "cell_type": "code",
   "execution_count": 33,
   "metadata": {},
   "outputs": [],
   "source": [
    "selected_fan='1号风机'\n",
    "selected_features=['YD15']\n",
    "start_string = \"2020-02-21 00:00:00\"\n",
    "end_string=\"2020-02-21 23:00:00\"\n",
    "start_date = datetime.strptime(start_string, \"%Y-%m-%d %H:%M:%S\")\n",
    "end_date = datetime.strptime(end_string, \"%Y-%m-%d %H:%M:%S\")\n",
    "selected_features=['YD15']\n",
    "selected_fan='1号风机'"
   ]
  },
  {
   "cell_type": "code",
   "execution_count": 34,
   "metadata": {},
   "outputs": [],
   "source": [
    "def predict_df(start_date,end_date,selected_features,selected_fan):\n",
    "    filename = 'pred/'+ selected_fan[:1].zfill(4) + \"out.csv\"\n",
    "    df = pd.read_csv(filename)\n",
    "    start_date=pd.to_datetime(start_date)\n",
    "    end_date=pd.to_datetime(end_date)\n",
    "    # 根据选择的特征获取对应列的数据\n",
    "    selected_columns = []\n",
    "    selected_features.append('DATATIME')\n",
    "    # 根据选择的日期范围筛选数据\n",
    "    df['DATATIME'] = pd.to_datetime(df['DATATIME'])\n",
    "    mask = (df['DATATIME'] >= start_date) & (df['DATATIME'] <= end_date)\n",
    "    df = df.loc[mask]\n",
    "    df = df[selected_features]\n",
    "    return df"
   ]
  },
  {
   "cell_type": "code",
   "execution_count": 35,
   "metadata": {},
   "outputs": [],
   "source": [
    "df=predict_df(start_date,end_date,selected_features,selected_fan)"
   ]
  },
  {
   "cell_type": "code",
   "execution_count": 37,
   "metadata": {},
   "outputs": [
    {
     "data": {
      "text/html": [
       "<div>\n",
       "<style scoped>\n",
       "    .dataframe tbody tr th:only-of-type {\n",
       "        vertical-align: middle;\n",
       "    }\n",
       "\n",
       "    .dataframe tbody tr th {\n",
       "        vertical-align: top;\n",
       "    }\n",
       "\n",
       "    .dataframe thead th {\n",
       "        text-align: right;\n",
       "    }\n",
       "</style>\n",
       "<table border=\"1\" class=\"dataframe\">\n",
       "  <thead>\n",
       "    <tr style=\"text-align: right;\">\n",
       "      <th></th>\n",
       "      <th>YD15</th>\n",
       "      <th>DATATIME</th>\n",
       "    </tr>\n",
       "  </thead>\n",
       "  <tbody>\n",
       "    <tr>\n",
       "      <th>0</th>\n",
       "      <td>17753.138672</td>\n",
       "      <td>2020-02-21 00:00:00</td>\n",
       "    </tr>\n",
       "    <tr>\n",
       "      <th>1</th>\n",
       "      <td>17418.619141</td>\n",
       "      <td>2020-02-21 00:15:00</td>\n",
       "    </tr>\n",
       "    <tr>\n",
       "      <th>2</th>\n",
       "      <td>17423.437500</td>\n",
       "      <td>2020-02-21 00:30:00</td>\n",
       "    </tr>\n",
       "    <tr>\n",
       "      <th>3</th>\n",
       "      <td>18446.353516</td>\n",
       "      <td>2020-02-21 00:45:00</td>\n",
       "    </tr>\n",
       "    <tr>\n",
       "      <th>4</th>\n",
       "      <td>16225.091797</td>\n",
       "      <td>2020-02-21 01:00:00</td>\n",
       "    </tr>\n",
       "    <tr>\n",
       "      <th>...</th>\n",
       "      <td>...</td>\n",
       "      <td>...</td>\n",
       "    </tr>\n",
       "    <tr>\n",
       "      <th>88</th>\n",
       "      <td>16736.675781</td>\n",
       "      <td>2020-02-21 22:00:00</td>\n",
       "    </tr>\n",
       "    <tr>\n",
       "      <th>89</th>\n",
       "      <td>16871.605469</td>\n",
       "      <td>2020-02-21 22:15:00</td>\n",
       "    </tr>\n",
       "    <tr>\n",
       "      <th>90</th>\n",
       "      <td>17384.386719</td>\n",
       "      <td>2020-02-21 22:30:00</td>\n",
       "    </tr>\n",
       "    <tr>\n",
       "      <th>91</th>\n",
       "      <td>16210.132812</td>\n",
       "      <td>2020-02-21 22:45:00</td>\n",
       "    </tr>\n",
       "    <tr>\n",
       "      <th>92</th>\n",
       "      <td>17419.275391</td>\n",
       "      <td>2020-02-21 23:00:00</td>\n",
       "    </tr>\n",
       "  </tbody>\n",
       "</table>\n",
       "<p>93 rows × 2 columns</p>\n",
       "</div>"
      ],
      "text/plain": [
       "            YD15            DATATIME\n",
       "0   17753.138672 2020-02-21 00:00:00\n",
       "1   17418.619141 2020-02-21 00:15:00\n",
       "2   17423.437500 2020-02-21 00:30:00\n",
       "3   18446.353516 2020-02-21 00:45:00\n",
       "4   16225.091797 2020-02-21 01:00:00\n",
       "..           ...                 ...\n",
       "88  16736.675781 2020-02-21 22:00:00\n",
       "89  16871.605469 2020-02-21 22:15:00\n",
       "90  17384.386719 2020-02-21 22:30:00\n",
       "91  16210.132812 2020-02-21 22:45:00\n",
       "92  17419.275391 2020-02-21 23:00:00\n",
       "\n",
       "[93 rows x 2 columns]"
      ]
     },
     "execution_count": 37,
     "metadata": {},
     "output_type": "execute_result"
    }
   ],
   "source": [
    "df"
   ]
  }
 ],
 "metadata": {
  "kernelspec": {
   "display_name": "myenv",
   "language": "python",
   "name": "python3"
  },
  "language_info": {
   "codemirror_mode": {
    "name": "ipython",
    "version": 3
   },
   "file_extension": ".py",
   "mimetype": "text/x-python",
   "name": "python",
   "nbconvert_exporter": "python",
   "pygments_lexer": "ipython3",
   "version": "3.8.16"
  },
  "orig_nbformat": 4
 },
 "nbformat": 4,
 "nbformat_minor": 2
}
